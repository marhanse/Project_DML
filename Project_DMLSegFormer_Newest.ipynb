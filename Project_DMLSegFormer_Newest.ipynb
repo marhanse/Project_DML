{
 "cells": [
  {
   "cell_type": "markdown",
   "id": "0ea7f61f-14a2-4922-bc7c-99c185bd9619",
   "metadata": {},
   "source": [
    "HAR ANVÄNT MIG AV PREPROCESSING FRÅN samma fil som förra:\n",
    "\n",
    "https://www.kaggle.com/code/amrabdellatif/brain-tumor-image-dataset-pytorch\n",
    "\n",
    "\n",
    "\n",
    "och UNET från:\n",
    "\n",
    "https://www.kaggle.com/code/wilbertch/mri-image-segmentation-unet\n",
    "\n",
    "\n",
    "\n",
    "\n",
    "Andra att UNET undersöka som inte undersöks i denna notebook men som vi kan kolla på:\n",
    "\n",
    "https://www.kaggle.com/code/moemnelhalose/brain-tumor-u-net-98\n",
    "\n",
    "https://www.kaggle.com/code/nithunith/brain-tumor-unet\n",
    "\n"
   ]
  },
  {
   "cell_type": "code",
   "execution_count": 1,
   "id": "1147cb57-90c9-452a-9cbd-5fb49121b5a7",
   "metadata": {},
   "outputs": [],
   "source": [
    "import os \n",
    "import glob\n",
    "import json\n",
    "import numpy as np\n",
    "import cv2\n",
    "import matplotlib.pyplot as plt"
   ]
  },
  {
   "cell_type": "code",
   "execution_count": 2,
   "id": "184a898c-71e0-4384-af26-f525827c2e3a",
   "metadata": {},
   "outputs": [],
   "source": [
    "train_path = \"train\"\n",
    "valid_path = \"valid\""
   ]
  },
  {
   "cell_type": "code",
   "execution_count": 3,
   "id": "3ce98bd1-891f-47fc-8549-037ac48b831b",
   "metadata": {},
   "outputs": [],
   "source": [
    "train_data=[image for image in os.listdir(train_path)]\n"
   ]
  },
  {
   "cell_type": "code",
   "execution_count": null,
   "id": "2373e08e-55d4-4921-9d24-57cd02be6489",
   "metadata": {},
   "outputs": [],
   "source": [
    "#torch.cuda.empty_cache()"
   ]
  },
  {
   "cell_type": "code",
   "execution_count": null,
   "id": "9d3b4068-5840-4cb9-8033-e7ba25671c27",
   "metadata": {
    "jupyter": {
     "source_hidden": true
    }
   },
   "outputs": [],
   "source": [
    "# creating mask from annotations\n",
    "import json\n",
    "import numpy as np\n",
    "import skimage.draw\n",
    "import tifffile\n",
    "import os\n",
    "import shutil\n",
    "import matplotlib.pyplot as plt\n",
    "\n",
    "def create_mask(image_info, annotations, output_folder, max_print=3):\n",
    "    # Create an empty mask as a numpy array\n",
    "    mask_np = np.zeros((image_info['height'], image_info['width']), dtype=np.uint8)\n",
    "#     print(mask_np.shape)\n",
    "\n",
    "    # Counter for the object number\n",
    "    object_number = 1\n",
    "\n",
    "    printed_masks = 0  # Counter for the number of printed masks\n",
    "\n",
    "    for ann in annotations:\n",
    "        if ann['image_id'] == image_info['id']:\n",
    "#             print(f\"Processing annotation for image {image_info['file_name']}: {ann}\")\n",
    "            # Extract segmentation polygon\n",
    "            for seg_idx, seg in enumerate(ann['segmentation']):\n",
    "#                 print(f\"Segmentation points: {seg}\")\n",
    "                # Convert polygons to a binary mask and add it to the main mask\n",
    "                rr, cc = skimage.draw.polygon(seg[1::2], seg[0::2], mask_np.shape)\n",
    "                # Create a mask for each segmentation\n",
    "                seg_mask = np.zeros_like(mask_np, dtype=np.uint8)\n",
    "                seg_mask[rr, cc] = 255  # Set the pixel values to 255 for the polygon\n",
    "                # Save the segmentation mask\n",
    "                mask_path = os.path.join(output_folder, f\"{image_info['file_name'].replace('.jpg', '')}_seg_{seg_idx}.tif\")\n",
    "                tifffile.imwrite(mask_path, seg_mask)\n",
    "#                 print(f\"Saved segmentation mask for {image_info['file_name']} segment {seg_idx} to {mask_path}\")\n",
    "                \n",
    "                # Print the segmentation mask using imshow\n",
    "                # plt.imshow(seg_mask, cmap='gray')\n",
    "                # plt.title(f\"Segmentation Mask for {image_info['file_name']} Segment {seg_idx}\")\n",
    "                # plt.show()\n",
    "                \n",
    "                printed_masks += 1\n",
    "                if printed_masks >= max_print:\n",
    "                    return  # Exit the function if maximum number of masks to print is reached\n",
    "\n",
    "#     print(\"All segmentation masks saved.\")"
   ]
  },
  {
   "cell_type": "code",
   "execution_count": null,
   "id": "a29b8f5d-190a-4fcd-8a76-32f526a31d5e",
   "metadata": {
    "jupyter": {
     "source_hidden": true
    }
   },
   "outputs": [],
   "source": [
    "# main function to create datasets\n",
    "def main(json_file, mask_output_folder, image_output_folder, original_image_dir):\n",
    "    # Load COCO JSON annotations\n",
    "    with open(json_file, 'r') as f:\n",
    "        data = json.load(f)\n",
    "\n",
    "    images = data['images']\n",
    "    annotations = data['annotations']\n",
    "\n",
    "    # Ensure the output directories exist\n",
    "    if not os.path.exists(mask_output_folder):\n",
    "        os.makedirs(mask_output_folder)\n",
    "    if not os.path.exists(image_output_folder):\n",
    "        os.makedirs(image_output_folder)\n",
    "\n",
    "    for img in images:\n",
    "        # Create the masks\n",
    "        create_mask(img, annotations, mask_output_folder)\n",
    "        \n",
    "        # Copy original images to the specified folder\n",
    "        original_image_path = os.path.join(original_image_dir, img['file_name'])\n",
    "    \n",
    "        new_image_path = os.path.join(image_output_folder, os.path.basename(original_image_path))\n",
    "        shutil.copy2(original_image_path, new_image_path)\n",
    "#         print(f\"Copied original image to {new_image_path}\")"
   ]
  },
  {
   "cell_type": "code",
   "execution_count": null,
   "id": "93a64c2d-e89c-4bda-92a6-6afd41b8781e",
   "metadata": {
    "jupyter": {
     "source_hidden": true
    }
   },
   "outputs": [],
   "source": [
    "# ONLY NEEDED ONCE: Calling main function to create datasets \n",
    "\n",
    "# original_image_dir = 'test'  # Where your original images are stored\n",
    "# json_file = 'test/_annotations.coco.json'\n",
    "# mask_output_folder = 'test2/masks'  # Modify this as needed. Using val2 so my data is not overwritten\n",
    "# image_output_folder = 'test2/images'  # \n",
    "# main(json_file, mask_output_folder, image_output_folder, original_image_dir)\n",
    "\n",
    "\n",
    "# original_image_dir = 'train'  # Where your original images are stored\n",
    "# json_file = 'train/_annotations.coco.json'\n",
    "# mask_output_folder = 'train2/masks'  # Modify this as needed. Using val2 so my data is not overwritten\n",
    "# image_output_folder = 'train2/images'  # \n",
    "# main(json_file, mask_output_folder, image_output_folder, original_image_dir)\n",
    "\n",
    "# original_image_dir = 'valid'  # Where your original images are stored\n",
    "# json_file = 'valid/_annotations.coco.json'\n",
    "# mask_output_folder = 'valid2/masks'  # Modify this as needed. Using val2 so my data is not overwritten\n",
    "# image_output_folder = 'valid2/images'  # \n",
    "# main(json_file, mask_output_folder, image_output_folder, original_image_dir)"
   ]
  },
  {
   "cell_type": "markdown",
   "id": "0496cc0e-9e7b-47fa-b48e-4012758ae8d5",
   "metadata": {},
   "source": [
    "\"I found a problem within train dataset .. there's an image that doesnt have a corresponding mask so im making a function to search and grab that file and delete it\""
   ]
  },
  {
   "cell_type": "code",
   "execution_count": null,
   "id": "26c76009-05ca-4e2c-bffb-b1ec4d872d38",
   "metadata": {
    "jupyter": {
     "source_hidden": true
    }
   },
   "outputs": [],
   "source": [
    "# import os\n",
    "\n",
    "# def compare_folders_and_delete(folder1_path, folder2_path):\n",
    "#     folder1_items = os.listdir(folder1_path)\n",
    "#     folder2_items = os.listdir(folder2_path)\n",
    "\n",
    "#     for item1 in folder1_items:\n",
    "#         found = False\n",
    "#         for item2 in folder2_items:\n",
    "#             if item1[:4] == item2[:4]:\n",
    "#                 found = True\n",
    "#                 break\n",
    "#         if not found:\n",
    "#             print(f\"Corresponding item for {item1} not found.\")\n",
    "#             item1_path = os.path.join(folder1_path, item1)\n",
    "#             os.remove(item1_path)\n",
    "#             print(f\"Deleted {item1}\")\n",
    "\n",
    "#     for item2 in folder2_items:\n",
    "#         found = False\n",
    "#         for item1 in folder1_items:\n",
    "#             if item2[:4] == item1[:4]:\n",
    "#                 found = True\n",
    "#                 break\n",
    "#         if not found:\n",
    "#             print(f\"Corresponding item for {item2} not found.\")\n",
    "#             item2_path = os.path.join(folder2_path, item2)\n",
    "#             os.remove(item2_path)\n",
    "#             print(f\"Deleted {item2}\")\n",
    "\n",
    "# # Example usage:\n",
    "# folder1_path = \"train2/images\"\n",
    "# folder2_path = \"train2/masks\"\n",
    "# compare_folders_and_delete(folder1_path, folder2_path)"
   ]
  },
  {
   "cell_type": "code",
   "execution_count": null,
   "id": "e440e1cd-daf3-4a2b-871a-f36e61937474",
   "metadata": {
    "jupyter": {
     "source_hidden": true
    }
   },
   "outputs": [],
   "source": [
    "# import os\n",
    "# from torch.utils.data import DataLoader, Dataset\n",
    "# from torchvision import transforms\n",
    "# from PIL import Image\n",
    "\n",
    "# class CustomDataset_general(Dataset):\n",
    "#     def __init__(self, root_dir, transform=None, maskTransform=None):\n",
    "#         self.root_dir = root_dir\n",
    "#         self.image_folder = os.path.join(root_dir, \"images\")\n",
    "#         self.mask_folder = os.path.join(root_dir, \"masks\")\n",
    "#         self.image_files = sorted(os.listdir(self.image_folder))\n",
    "#         self.mask_files = sorted(os.listdir(self.mask_folder))\n",
    "#         self.transform = transform\n",
    "#         self.maskTransform = maskTransform\n",
    "\n",
    "#     def __len__(self):\n",
    "#         return len(self.image_files)\n",
    "\n",
    "#     def __getitem__(self, idx):\n",
    "#         # Read image\n",
    "#         img_name = self.image_files[idx]\n",
    "#         img_path = os.path.join(self.image_folder, img_name)\n",
    "#         image = Image.open(img_path).convert(\"RGB\")\n",
    "#         image_gray = image.convert(\"L\")  # Convert to grayscale\n",
    "\n",
    "#         # Read corresponding mask\n",
    "#         mask_name = self.mask_files[idx]\n",
    "#         mask_path = os.path.join(self.mask_folder, mask_name)\n",
    "#         mask = Image.open(mask_path).convert(\"L\")\n",
    "\n",
    "#         if self.transform:\n",
    "#             # Apply transformations\n",
    "#             image_gray = self.transform(image_gray)\n",
    "#             mask = self.maskTransform(mask)\n",
    "\n",
    "#         return image_gray, mask\n",
    "\n",
    "# # Define paths for train, validation, and test sets\n",
    "# train_path = \"train2\" \n",
    "# valid_path = \"valid2\"\n",
    "# test_path = \"test2\"\n",
    "\n",
    "# # Define transformations\n",
    "# image_transform = transforms.Compose([\n",
    "#     transforms.Resize(224),\n",
    "#     transforms.Grayscale(num_output_channels=3),\n",
    "#     transforms.ToTensor(),\n",
    "#     transforms.Normalize(mean=[0.485, 0.456, 0.406], std=[0.229, 0.224, 0.225]),  # Assuming grayscale images\n",
    "#     transforms.Lambda(lambda x: x.clamp(0, 1))\n",
    "# ])\n",
    "\n",
    "# mask_transform = transforms.Compose([\n",
    "#     transforms.Resize(224), \n",
    "#     transforms.ToTensor(), \n",
    "#     transforms.Lambda(lambda x: x.clamp(0, 1))\n",
    "# ])\n",
    "\n",
    "\n",
    "# # Create datasets\n",
    "# train_dataset = CustomDataset_general(train_path, transform=image_transform, maskTransform=mask_transform)\n",
    "# valid_dataset = CustomDataset_general(valid_path, transform=image_transform, maskTransform=mask_transform)\n",
    "# # test_dataset = CustomDataset_general(test_path, transform=image_transform)\n",
    "\n",
    "# # Create data loaders\n",
    "# train_loader = DataLoader(train_dataset, batch_size=32, shuffle=True)\n",
    "# valid_loader = DataLoader(valid_dataset, batch_size=32, shuffle=False)\n",
    "# # test_loader = DataLoader(test_dataset, batch_size=32, shuffle=False)"
   ]
  },
  {
   "cell_type": "code",
   "execution_count": 4,
   "id": "87032753-4633-4be7-a215-1c84dd2495dd",
   "metadata": {},
   "outputs": [],
   "source": [
    "import os\n",
    "from torch.utils.data import DataLoader, Dataset, ConcatDataset\n",
    "from torchvision import transforms\n",
    "from torchvision.transforms.functional import rotate, resized_crop\n",
    "from PIL import Image\n",
    "import random\n",
    "\n",
    "class RandomResizedCropPair:\n",
    "    def __init__(self, size, scale=(0.08, 1.0), ratio=(3/4, 4/3)):\n",
    "        self.size = size\n",
    "        self.scale = scale\n",
    "        self.ratio = ratio\n",
    "\n",
    "    def __call__(self, img, mask):\n",
    "        i, j, h, w = transforms.RandomResizedCrop.get_params(img, self.scale, self.ratio)\n",
    "        \n",
    "        img = resized_crop(img, i, j, h, w, self.size)\n",
    "        mask = resized_crop(mask, i, j, h, w, self.size)\n",
    "        \n",
    "        return img, mask\n",
    "\n",
    "class RandomRotate:\n",
    "    def __init__(self, degrees):\n",
    "        if isinstance(degrees, (int, float)):  # Handle the case where a single number is passed\n",
    "            self.degrees = (-degrees, degrees)  # Use negative and positive range\n",
    "        else:\n",
    "            self.degrees = degrees\n",
    "\n",
    "    def __call__(self, img, mask):\n",
    "        angle = random.uniform(self.degrees[0], self.degrees[1])\n",
    "        img = rotate(img, angle)\n",
    "        mask = rotate(mask, angle)\n",
    "        return img, mask\n",
    "\n",
    "class CustomDataset_general(Dataset):\n",
    "    def __init__(self, root_dir, transform=None, maskTransform=None, rotation_degrees=0, use_crop=False, crop_size=(224, 224)):\n",
    "        self.root_dir = root_dir\n",
    "        self.image_folder = os.path.join(root_dir, \"images\")\n",
    "        self.mask_folder = os.path.join(root_dir, \"masks\")\n",
    "        self.image_files = sorted(os.listdir(self.image_folder))\n",
    "        self.mask_files = sorted(os.listdir(self.mask_folder))\n",
    "        \n",
    "        # Ensure rotation_degrees is always a tuple\n",
    "        if isinstance(rotation_degrees, (int, float)):\n",
    "            rotation_degrees = (-rotation_degrees, rotation_degrees)\n",
    "        self.rotation = RandomRotate(degrees=rotation_degrees)\n",
    "        \n",
    "        self.transform = transform\n",
    "        self.maskTransform = maskTransform\n",
    "        self.use_crop = use_crop  # Whether to apply RandomResizedCropPair\n",
    "        self.random_resized_crop = RandomResizedCropPair(size=crop_size) if use_crop else None\n",
    "\n",
    "    def __len__(self):\n",
    "        return len(self.image_files)\n",
    "\n",
    "    def __getitem__(self, idx):\n",
    "        # Read image\n",
    "        img_name = self.image_files[idx]\n",
    "        img_path = os.path.join(self.image_folder, img_name)\n",
    "        image = Image.open(img_path).convert(\"RGB\")\n",
    "        image_gray = image.convert(\"L\")  # Convert to grayscale\n",
    "\n",
    "        # Read corresponding mask\n",
    "        mask_name = self.mask_files[idx]\n",
    "        mask_path = os.path.join(self.mask_folder, mask_name)\n",
    "        mask = Image.open(mask_path).convert(\"L\")\n",
    "\n",
    "        # Apply synchronized random rotation\n",
    "        image_gray, mask = self.rotation(image_gray, mask)\n",
    "\n",
    "        # Apply synchronized random resized crop (if enabled)\n",
    "        if self.use_crop:\n",
    "            image_gray, mask = self.random_resized_crop(image_gray, mask)\n",
    "\n",
    "        # Apply transformations\n",
    "        if self.transform:\n",
    "            image_gray = self.transform(image_gray)\n",
    "        if self.maskTransform:\n",
    "            mask = self.maskTransform(mask)\n",
    "\n",
    "        return image_gray, mask\n",
    "\n",
    "# Define paths for train, validation, and test sets\n",
    "train_path = \"train2\" \n",
    "valid_path = \"valid2\"\n",
    "test_path = \"test2\"\n",
    "\n",
    "# Define transformations\n",
    "image_transform = transforms.Compose([\n",
    "    transforms.Resize(224),\n",
    "    transforms.Grayscale(num_output_channels=3),\n",
    "    transforms.ToTensor(),\n",
    "    transforms.Normalize(mean=[0.485, 0.456, 0.406], std=[0.229, 0.224, 0.225]),  \n",
    "    transforms.Lambda(lambda x: x.clamp(0, 1))\n",
    "])\n",
    "\n",
    "mask_transform = transforms.Compose([\n",
    "    transforms.Resize(224), \n",
    "    transforms.ToTensor(), \n",
    "    transforms.Lambda(lambda x: x.clamp(0, 1))\n",
    "])\n",
    "\n",
    "image_transform_plot = transforms.Compose([\n",
    "    transforms.Grayscale(num_output_channels=3),\n",
    "    transforms.ToTensor(),\n",
    "    #transforms.Normalize(mean=[0.485, 0.456, 0.406], std=[0.229, 0.224, 0.225]),  \n",
    "    transforms.Lambda(lambda x: x.clamp(0, 1))\n",
    "])\n",
    "\n",
    "mask_transform_plot = transforms.Compose([\n",
    "    transforms.Resize(224), \n",
    "    transforms.ToTensor(), \n",
    "    transforms.Lambda(lambda x: x.clamp(0, 1))\n",
    "])\n",
    "\n",
    "# Combine datasets with different rotation angles and synchronized RandomResizedCrop for some datasets\n",
    "angle = [(0, 0), (0, 90), (90, 180), (-1, 1)]  # Ensure all angles are tuples\n",
    "all_datasets = []\n",
    "for a in angle:\n",
    "    use_crop = a in [(0, 90), (90, 180), (-1, 1)]  # Apply RandomResizedCrop for some rotations\n",
    "    all_datasets.append(CustomDataset_general(train_path, transform=image_transform, maskTransform=mask_transform, rotation_degrees=a, use_crop=use_crop))\n",
    "\n",
    "train_dataset = ConcatDataset(all_datasets)\n",
    "\n",
    "# Create validation dataset\n",
    "valid_dataset = CustomDataset_general(valid_path, transform=image_transform, maskTransform=mask_transform, rotation_degrees=(0, 0))\n",
    "valid_dataset_plot = CustomDataset_general(valid_path, transform=image_transform_plot, maskTransform=mask_transform_plot)\n",
    "# Create data loaders\n",
    "train_loader = DataLoader(train_dataset, shuffle=True, num_workers=6, batch_size=64, pin_memory=True)\n",
    "valid_loader = DataLoader(valid_dataset, shuffle=False, num_workers=6, batch_size=64, pin_memory=False)\n",
    "valid_loader_plot = DataLoader(valid_dataset_plot, shuffle=False, num_workers=6, batch_size=64, pin_memory=False)"
   ]
  },
  {
   "cell_type": "markdown",
   "id": "23d0586c-4c12-4362-9c40-1d7c4184c19d",
   "metadata": {},
   "source": [
    "To find optimal value of num_workers for the dataloader. Code from: https://chtalhaanwar.medium.com/pytorch-num-workers-a-tip-for-speedy-training-ed127d825db7"
   ]
  },
  {
   "cell_type": "code",
   "execution_count": null,
   "id": "30dbf280-d925-479b-aeb1-59d74da813fc",
   "metadata": {},
   "outputs": [],
   "source": [
    "# from time import time\n",
    "# import multiprocessing as mp\n",
    "\n",
    "# for num_workers in tqdm(range(2, mp.cpu_count(), 2)):  \n",
    "#     train_loader = DataLoader(train_dataset, shuffle=True, num_workers=num_workers, batch_size=32, pin_memory=True)\n",
    "\n",
    "#     start = time()  # Start the timer here\n",
    "#     for epoch in range(1, 3):\n",
    "#         for i, data in enumerate(train_loader, 0):\n",
    "#             pass  # Simulate the training loop\n",
    "#     end = time()  # End the timer after the training loop finishes\n",
    "\n",
    "#     print(f\"Finish with: {end - start:.2f} seconds, num_workers={num_workers}\")\n"
   ]
  },
  {
   "cell_type": "code",
   "execution_count": null,
   "id": "f69219d2-6c6f-4bd5-8eca-d0dcf5342f86",
   "metadata": {},
   "outputs": [],
   "source": [
    "x, y = next(iter(train_loader))\n",
    "x.shape , y.shape , type(x) , type(y)"
   ]
  },
  {
   "cell_type": "code",
   "execution_count": 6,
   "id": "aada4442-7c95-4a28-b83b-105d04504c65",
   "metadata": {},
   "outputs": [
    {
     "name": "stdout",
     "output_type": "stream",
     "text": [
      "Number of ones in x: 637243\n",
      "Number of zeros in x: 8996549\n",
      "Number of ones in y: 244524\n",
      "Number of zeros in y: 2966740\n"
     ]
    }
   ],
   "source": [
    "# lets take a look at the data inside dataloaders and make sure it within range of [0,1] \n",
    "\n",
    "# Assuming x is a tensor from your DataLoader\n",
    "# x, y = next(iter(train_loader))\n",
    "import torch\n",
    "# Count number of ones and zeros in tensor x\n",
    "num_ones = torch.eq(x, 1).sum().item()\n",
    "num_zeros = x.numel() - num_ones\n",
    "\n",
    "print(\"Number of ones in x:\", num_ones)\n",
    "print(\"Number of zeros in x:\", num_zeros)\n",
    "\n",
    "# Count number of ones and zeros in tensor y\n",
    "num_ones = torch.eq(y, 1).sum().item()\n",
    "num_zeros = y.numel() - num_ones\n",
    "\n",
    "print(\"Number of ones in y:\", num_ones)\n",
    "print(\"Number of zeros in y:\", num_zeros)"
   ]
  },
  {
   "cell_type": "code",
   "execution_count": null,
   "id": "8ebf9773-07d7-4d56-9d95-69310d6e69b3",
   "metadata": {
    "jupyter": {
     "source_hidden": true
    }
   },
   "outputs": [],
   "source": [
    "# Convert tensors to numpy arrays and permute dimensions if channels > 1\n",
    "x_np = x.numpy().transpose(0, 2, 3, 1)  # Shape: (batch_size, height, width, channels)\n",
    "y_np = y.numpy().transpose(0, 2, 3, 1)\n",
    "\n",
    "# Plot the images\n",
    "plt.figure(figsize=(10, 5))\n",
    "\n",
    "# Plot original images\n",
    "for i in range(4):\n",
    "    plt.subplot(2, 4, i + 1)\n",
    "    if x_np.shape[-1] == 1:  # If grayscale\n",
    "        plt.imshow(x_np[i].squeeze(), cmap='gray')\n",
    "    else:  # If multi-channel (e.g., RGB)\n",
    "        plt.imshow(x_np[i])\n",
    "    plt.title('Original Image')\n",
    "    plt.axis('off')\n",
    "\n",
    "# Plot masks\n",
    "for i in range(4):\n",
    "    plt.subplot(2, 4, i + 5)\n",
    "    if y_np.shape[-1] == 1:  # If grayscale\n",
    "        plt.imshow(y_np[i].squeeze(), cmap='gray')\n",
    "    else:  # If multi-channel\n",
    "        plt.imshow(y_np[i])\n",
    "    plt.title('Mask')\n",
    "    plt.axis('off')\n",
    "\n",
    "plt.tight_layout()\n",
    "plt.show()\n"
   ]
  },
  {
   "cell_type": "markdown",
   "id": "b8ad56be-cd4f-4497-8f01-9ca0f3c434a7",
   "metadata": {},
   "source": [
    "HÄRIFRÅN OCH NER ÄR TAGET FRÅN https://www.kaggle.com/code/wilbertch/mri-image-segmentation-unet // Richard"
   ]
  },
  {
   "cell_type": "code",
   "execution_count": 7,
   "id": "07141ebe-6dd1-4a24-af31-c2e71cc6b88a",
   "metadata": {},
   "outputs": [],
   "source": [
    "import torch\n",
    "from torchvision import datasets\n",
    "#from torchmetrics.classification import JaccardIndex\n",
    "from torch.utils.data import Dataset ,DataLoader\n",
    "from torchvision.transforms import ToTensor\n",
    "import torch.nn as nn\n",
    "import pandas as pd\n",
    "import numpy as np\n",
    "from torch.optim import lr_scheduler"
   ]
  },
  {
   "cell_type": "markdown",
   "id": "53bb3010-348f-4c7f-9b48-669ea04c8845",
   "metadata": {},
   "source": [
    "UNET VERKAR ANVÄNDA DICE LOSS SOM ÄR NGN FÖRBÄTTRING AV crossentropy loss https://cvinvolution.medium.com/dice-loss-in-medical-image-segmentation-d0e476eb486"
   ]
  },
  {
   "cell_type": "code",
   "execution_count": 8,
   "id": "653f793a-dc4e-48bd-98ac-d80c2c09248b",
   "metadata": {},
   "outputs": [],
   "source": [
    "import torch\n",
    "import torch.nn as nn\n",
    "\n",
    "class DiceLoss(nn.Module):\n",
    "    def __init__(self):\n",
    "        super(DiceLoss, self).__init__()\n",
    "        \n",
    "    def forward(self, y_pred, y_true):\n",
    "        # Apply softmax if using class logits to get probabilities\n",
    "        y_pred = torch.softmax(y_pred, dim=1)  # Convert to probabilities\n",
    "        smooth = 1.0\n",
    "\n",
    "        # Get the probabilities for the positive class\n",
    "        y_pred_pos = y_pred[:, 1, :, :]  # Assuming class 1 is the positive class\n",
    "        y_true = (y_true > 0).float()  # Convert mask to float (binary)\n",
    "\n",
    "        intersection = (y_pred_pos * y_true).sum()\n",
    "        dic_loss = 1 - (2.0 * intersection + smooth) / (y_pred_pos.sum() + y_true.sum() + smooth)\n",
    "\n",
    "        return dic_loss\n"
   ]
  },
  {
   "cell_type": "code",
   "execution_count": 9,
   "id": "df451100-3035-4392-83b9-ffb93d9e6a50",
   "metadata": {},
   "outputs": [
    {
     "data": {
      "application/vnd.jupyter.widget-view+json": {
       "model_id": "59e12abb4f75470d989436821077dab0",
       "version_major": 2,
       "version_minor": 0
      },
      "text/plain": [
       "config.json:   0%|          | 0.00/6.88k [00:00<?, ?B/s]"
      ]
     },
     "metadata": {},
     "output_type": "display_data"
    },
    {
     "data": {
      "application/vnd.jupyter.widget-view+json": {
       "model_id": "abb8db39b9cb4010b2e379cd369a4109",
       "version_major": 2,
       "version_minor": 0
      },
      "text/plain": [
       "pytorch_model.bin:   0%|          | 0.00/54.9M [00:00<?, ?B/s]"
      ]
     },
     "metadata": {},
     "output_type": "display_data"
    },
    {
     "name": "stderr",
     "output_type": "stream",
     "text": [
      "Some weights of SegformerForSemanticSegmentation were not initialized from the model checkpoint at nvidia/segformer-b1-finetuned-ade-512-512 and are newly initialized because the shapes did not match:\n",
      "- decode_head.classifier.weight: found shape torch.Size([150, 256, 1, 1]) in the checkpoint and torch.Size([2, 256, 1, 1]) in the model instantiated\n",
      "- decode_head.classifier.bias: found shape torch.Size([150]) in the checkpoint and torch.Size([2]) in the model instantiated\n",
      "You should probably TRAIN this model on a down-stream task to be able to use it for predictions and inference.\n"
     ]
    }
   ],
   "source": [
    "from transformers import SegformerForSemanticSegmentation\n",
    "import torch.nn.functional as F\n",
    "from tqdm import tqdm\n",
    "\n",
    "model = SegformerForSemanticSegmentation.from_pretrained(\n",
    "    \"nvidia/segformer-b1-finetuned-ade-512-512\", \n",
    "    num_labels=2, \n",
    "    ignore_mismatched_sizes=True\n",
    ")"
   ]
  },
  {
   "cell_type": "code",
   "execution_count": 10,
   "id": "9a54f024-3866-4a31-91e6-d9c4bac79346",
   "metadata": {},
   "outputs": [],
   "source": [
    "for param in model.segformer.parameters():\n",
    "    param.requires_grad = True\n",
    "\n",
    "# Only the segmentation head's parameters will be fine-tuned\n",
    "for param in model.decode_head.parameters():\n",
    "    param.requires_grad = True"
   ]
  },
  {
   "cell_type": "code",
   "execution_count": 11,
   "id": "0441f47f-d443-4ede-a299-f2cf69f3b073",
   "metadata": {},
   "outputs": [],
   "source": [
    "from sklearn.metrics import f1_score\n",
    "from torch.optim.lr_scheduler import ReduceLROnPlateau\n",
    "import os\n",
    "import pandas as pd\n",
    "from tqdm import tqdm\n",
    "import torch\n",
    "import torch.nn.functional as F\n",
    "\n",
    "# Define your train and validation functions\n",
    "def train(model, device, optimizer, loss_fn, loader):\n",
    "    running_loss = 0.0\n",
    "    f1_scores = []\n",
    "    model.train()\n",
    "    \n",
    "    for images, masks in tqdm(loader):  \n",
    "        images, masks = images.to(device), masks.to(device)\n",
    "        \n",
    "        optimizer.zero_grad()\n",
    "        \n",
    "        outputs = model(images).logits \n",
    "        outputs = F.interpolate(outputs, size=(224, 224), mode='bilinear', align_corners=False)\n",
    "        \n",
    "        true_masks = masks.squeeze(1)  # Shape: [batch_size, 224, 224]\n",
    "        true_masks = true_masks.long()  # Convert to long for loss function\n",
    "        \n",
    "        loss = loss_fn(outputs, true_masks)  \n",
    "        loss.backward() \n",
    "        optimizer.step()\n",
    "        \n",
    "        running_loss += loss.item()\n",
    "        \n",
    "        # F1 score calculation\n",
    "        preds = torch.argmax(outputs, dim=1)  # Get predicted classes (multi-class case)\n",
    "        \n",
    "        preds = preds.cpu().numpy().reshape(-1)\n",
    "        true_masks_np = true_masks.cpu().numpy().reshape(-1)\n",
    "        \n",
    "        f1 = f1_score(true_masks_np, preds)\n",
    "        f1_scores.append(f1)\n",
    "    \n",
    "    avg_f1 = sum(f1_scores) / len(f1_scores)\n",
    "    return running_loss / len(loader), avg_f1\n",
    "\n",
    "def valid(model, device, loss_fn, loader):\n",
    "    running_loss = 0.0\n",
    "    f1_scores = []\n",
    "    model.eval()\n",
    "\n",
    "    with torch.no_grad():\n",
    "        for images, masks in tqdm(loader):\n",
    "            images, masks = images.to(device), masks.to(device)\n",
    "            \n",
    "            outputs = model(images).logits \n",
    "            outputs = F.interpolate(outputs, size=(224, 224), mode='bilinear', align_corners=False)\n",
    "        \n",
    "            true_masks = masks.squeeze(1)\n",
    "            true_masks = true_masks.long()  \n",
    "            \n",
    "            loss = loss_fn(outputs, true_masks) \n",
    "            running_loss += loss.item()\n",
    "            \n",
    "            # F1 score calculation\n",
    "            preds = torch.argmax(outputs, dim=1)  # Get predicted classes (multi-class case)\n",
    "            preds = preds.cpu().numpy().reshape(-1)\n",
    "            true_masks_np = true_masks.cpu().numpy().reshape(-1)\n",
    "            \n",
    "            f1 = f1_score(true_masks_np, preds)  \n",
    "            f1_scores.append(f1)\n",
    "    \n",
    "    avg_f1 = sum(f1_scores) / len(f1_scores)\n",
    "    return running_loss / len(loader), avg_f1"
   ]
  },
  {
   "cell_type": "code",
   "execution_count": 19,
   "id": "c8039f92-bdca-48a2-96c7-033f95337e94",
   "metadata": {
    "scrolled": true
   },
   "outputs": [
    {
     "name": "stderr",
     "output_type": "stream",
     "text": [
      "100%|████████████████████████████████████████████████████████████████████████████| 94/94 [01:16<00:00,  1.22it/s]\n",
      "100%|██████████████████████████████████████████████████████████████████████████████| 7/7 [00:04<00:00,  1.51it/s]\n"
     ]
    },
    {
     "name": "stdout",
     "output_type": "stream",
     "text": [
      "New best f1: 0.752212818501812, Epoch: 0\n",
      "Epoch [1/10], Training Loss: 0.1966, Validation Loss: 0.2487, F1 train: 0.8045, F1 valid: 0.7522\n"
     ]
    },
    {
     "name": "stderr",
     "output_type": "stream",
     "text": [
      "100%|████████████████████████████████████████████████████████████████████████████| 94/94 [01:17<00:00,  1.22it/s]\n",
      "100%|██████████████████████████████████████████████████████████████████████████████| 7/7 [00:04<00:00,  1.61it/s]\n"
     ]
    },
    {
     "name": "stdout",
     "output_type": "stream",
     "text": [
      "Epoch [2/10], Training Loss: 0.2008, Validation Loss: 0.2531, F1 train: 0.8004, F1 valid: 0.7480\n"
     ]
    },
    {
     "name": "stderr",
     "output_type": "stream",
     "text": [
      "100%|████████████████████████████████████████████████████████████████████████████| 94/94 [01:15<00:00,  1.24it/s]\n",
      "100%|██████████████████████████████████████████████████████████████████████████████| 7/7 [00:04<00:00,  1.53it/s]\n"
     ]
    },
    {
     "name": "stdout",
     "output_type": "stream",
     "text": [
      "Epoch [3/10], Training Loss: 0.1939, Validation Loss: 0.2554, F1 train: 0.8071, F1 valid: 0.7459\n"
     ]
    },
    {
     "name": "stderr",
     "output_type": "stream",
     "text": [
      "100%|████████████████████████████████████████████████████████████████████████████| 94/94 [01:16<00:00,  1.23it/s]\n",
      "100%|██████████████████████████████████████████████████████████████████████████████| 7/7 [00:04<00:00,  1.52it/s]\n"
     ]
    },
    {
     "name": "stdout",
     "output_type": "stream",
     "text": [
      "Epoch [4/10], Training Loss: 0.2004, Validation Loss: 0.2520, F1 train: 0.8007, F1 valid: 0.7490\n"
     ]
    },
    {
     "name": "stderr",
     "output_type": "stream",
     "text": [
      "100%|████████████████████████████████████████████████████████████████████████████| 94/94 [01:17<00:00,  1.22it/s]\n",
      "100%|██████████████████████████████████████████████████████████████████████████████| 7/7 [00:04<00:00,  1.52it/s]\n"
     ]
    },
    {
     "name": "stdout",
     "output_type": "stream",
     "text": [
      "New best f1: 0.7549088463065905, Epoch: 4\n",
      "Epoch [5/10], Training Loss: 0.2017, Validation Loss: 0.2466, F1 train: 0.7993, F1 valid: 0.7549\n"
     ]
    },
    {
     "name": "stderr",
     "output_type": "stream",
     "text": [
      "100%|████████████████████████████████████████████████████████████████████████████| 94/94 [01:17<00:00,  1.22it/s]\n",
      "100%|██████████████████████████████████████████████████████████████████████████████| 7/7 [00:04<00:00,  1.47it/s]\n"
     ]
    },
    {
     "name": "stdout",
     "output_type": "stream",
     "text": [
      "New best f1: 0.7556428136523642, Epoch: 5\n",
      "Epoch [6/10], Training Loss: 0.1954, Validation Loss: 0.2455, F1 train: 0.8056, F1 valid: 0.7556\n"
     ]
    },
    {
     "name": "stderr",
     "output_type": "stream",
     "text": [
      "100%|████████████████████████████████████████████████████████████████████████████| 94/94 [01:16<00:00,  1.22it/s]\n",
      "100%|██████████████████████████████████████████████████████████████████████████████| 7/7 [00:04<00:00,  1.52it/s]\n"
     ]
    },
    {
     "name": "stdout",
     "output_type": "stream",
     "text": [
      "New best f1: 0.7588798038172382, Epoch: 6\n",
      "Epoch [7/10], Training Loss: 0.1942, Validation Loss: 0.2423, F1 train: 0.8068, F1 valid: 0.7589\n"
     ]
    },
    {
     "name": "stderr",
     "output_type": "stream",
     "text": [
      "100%|████████████████████████████████████████████████████████████████████████████| 94/94 [01:16<00:00,  1.23it/s]\n",
      "100%|██████████████████████████████████████████████████████████████████████████████| 7/7 [00:04<00:00,  1.53it/s]\n"
     ]
    },
    {
     "name": "stdout",
     "output_type": "stream",
     "text": [
      "New best f1: 0.7593297486558803, Epoch: 7\n",
      "Epoch [8/10], Training Loss: 0.1893, Validation Loss: 0.2417, F1 train: 0.8117, F1 valid: 0.7593\n"
     ]
    },
    {
     "name": "stderr",
     "output_type": "stream",
     "text": [
      "100%|████████████████████████████████████████████████████████████████████████████| 94/94 [01:16<00:00,  1.23it/s]\n",
      "100%|██████████████████████████████████████████████████████████████████████████████| 7/7 [00:04<00:00,  1.59it/s]\n"
     ]
    },
    {
     "name": "stdout",
     "output_type": "stream",
     "text": [
      "Epoch [9/10], Training Loss: 0.1933, Validation Loss: 0.2480, F1 train: 0.8076, F1 valid: 0.7531\n"
     ]
    },
    {
     "name": "stderr",
     "output_type": "stream",
     "text": [
      "100%|████████████████████████████████████████████████████████████████████████████| 94/94 [01:16<00:00,  1.22it/s]\n",
      "100%|██████████████████████████████████████████████████████████████████████████████| 7/7 [00:04<00:00,  1.52it/s]"
     ]
    },
    {
     "name": "stdout",
     "output_type": "stream",
     "text": [
      "Epoch [10/10], Training Loss: 0.1958, Validation Loss: 0.2505, F1 train: 0.8052, F1 valid: 0.7506\n",
      "Metrics saved to metrics/training_metrics_b1_wdataaugplus20plus10.csv\n"
     ]
    },
    {
     "name": "stderr",
     "output_type": "stream",
     "text": [
      "\n"
     ]
    }
   ],
   "source": [
    "# Set up directories and save metrics\n",
    "save_dir = \"metrics\"\n",
    "if not os.path.exists(save_dir):\n",
    "    os.makedirs(save_dir)\n",
    "\n",
    "def train_model(model, device, optimizer, loss_fn, scheduler, epochs, train_loader, valid_loader):\n",
    "    model.to(device)\n",
    "    train_loss = []\n",
    "    valid_loss = []\n",
    "    f1_score_train = []\n",
    "    f1_score_valid = []\n",
    "    best_f1_score_valid = 0\n",
    "    best_epoch_index = 0\n",
    "    for epoch in range(epochs):\n",
    "        train_epoch_loss, f1_train = train(model, device, optimizer, loss_fn, train_loader)\n",
    "        valid_epoch_loss, f1_valid = valid(model, device, loss_fn, valid_loader)\n",
    "\n",
    "        train_loss.append(train_epoch_loss)\n",
    "        valid_loss.append(valid_epoch_loss)\n",
    "        f1_score_train.append(f1_train)\n",
    "        f1_score_valid.append(f1_valid)\n",
    "\n",
    "        if f1_valid > best_f1_score_valid:\n",
    "            print(f\"New best f1: {f1_valid}, Epoch: {epoch}\")\n",
    "            best_f1_score_valid = f1_valid\n",
    "            best_epoch_index = epoch\n",
    "            torch.save(model.state_dict(), 'best-model-parameters_b1_wdataaugplus20plus10.pt')\n",
    "            \n",
    "        # Step the scheduler based on validation loss\n",
    "        scheduler.step(valid_epoch_loss)\n",
    "\n",
    "        print(f\"Epoch [{epoch+1}/{epochs}], Training Loss: {train_epoch_loss:.4f}, Validation Loss: {valid_epoch_loss:.4f}, F1 train: {f1_train:.4f}, F1 valid: {f1_valid:.4f}\")\n",
    "\n",
    "    return train_loss, valid_loss, f1_score_train, f1_score_valid, best_epoch_index\n",
    "\n",
    "# Initialize device, model, optimizer, loss function, and scheduler\n",
    "device = torch.device(\"cuda\" if torch.cuda.is_available() else \"cpu\")\n",
    "optimizer = torch.optim.AdamW(model.parameters(), lr=1e-4)\n",
    "loss_fn = DiceLoss()  \n",
    "scheduler = ReduceLROnPlateau(optimizer, mode='min', factor=0.1, patience=5)\n",
    "\n",
    "# Set number of epochs and train the model\n",
    "epochs = 10\n",
    "train_loss, valid_loss, f1_score_train, f1_score_valid, best_epoch_index = train_model(model, device, optimizer, loss_fn, scheduler, epochs, train_loader, valid_loader)\n",
    "\n",
    "# Save metrics to CSV\n",
    "df_metrics = pd.DataFrame({\n",
    "    'epoch': list(range(1, epochs + 1)),\n",
    "    'train_loss': train_loss,\n",
    "    'val_loss': valid_loss,\n",
    "    'train_f1': f1_score_train,\n",
    "    'val_f1': f1_score_valid,\n",
    "    'best_epoch': best_epoch_index\n",
    "})\n",
    "\n",
    "# Save DataFrame to CSV\n",
    "metrics_file = os.path.join(save_dir, \"training_metrics_b1_wdataaugplus20plus10.csv\")\n",
    "df_metrics.to_csv(metrics_file, index=False)\n",
    "\n",
    "print(f\"Metrics saved to {metrics_file}\")"
   ]
  },
  {
   "cell_type": "code",
   "execution_count": 13,
   "id": "fd10585f-c424-459a-824a-1d35590e8862",
   "metadata": {},
   "outputs": [
    {
     "data": {
      "image/png": "[encoded data removed]",
      "text/plain": [
       "<Figure size 1000x600 with 1 Axes>"
      ]
     },
     "metadata": {},
     "output_type": "display_data"
    }
   ],
   "source": [
    "import matplotlib.pyplot as plt\n",
    "\n",
    "def plot_metric(val_loss, train_loss):\n",
    "    \n",
    "    epochs = range(1, len(train_loss) + 1)\n",
    "\n",
    "    plt.figure(figsize=(10, 6))\n",
    "    plt.plot(epochs, train_loss, label='Training Loss', color='blue', marker='o')\n",
    "    plt.plot(epochs, val_loss, label='Validation Loss', color='orange', marker='x')\n",
    "\n",
    "    plt.title('Training and Validation Loss')\n",
    "    plt.xlabel('Epochs')\n",
    "    plt.ylabel('Loss')\n",
    "    plt.legend()\n",
    "    plt.grid(True)\n",
    "    plt.xticks(epochs)  \n",
    "    plt.tight_layout() \n",
    "    plt.show()\n",
    "\n",
    "plot_metric(valid_loss, train_loss)"
   ]
  },
  {
   "cell_type": "code",
   "execution_count": 14,
   "id": "ad7b3e4c-49fb-4665-815d-7c24e0842499",
   "metadata": {},
   "outputs": [
    {
     "data": {
      "image/png": "[encoded data removed]",
      "text/plain": [
       "<Figure size 1000x600 with 1 Axes>"
      ]
     },
     "metadata": {},
     "output_type": "display_data"
    }
   ],
   "source": [
    "import matplotlib.pyplot as plt\n",
    "\n",
    "def plot_metric(valid_f1, train_f1):\n",
    "    \n",
    "    epochs = range(1, len(train_f1) + 1)\n",
    "\n",
    "    plt.figure(figsize=(10, 6))\n",
    "    plt.plot(epochs, train_f1, label='Training F1-score', color='blue', marker='o')\n",
    "    plt.plot(epochs, valid_f1, label='Validation F1-score', color='orange', marker='x')\n",
    "\n",
    "    plt.title('F1-score for Training and Validation')\n",
    "    plt.xlabel('Epochs')\n",
    "    plt.ylabel('F1-score')\n",
    "    plt.legend()\n",
    "    plt.grid(True)\n",
    "    plt.xticks(epochs)  \n",
    "    plt.tight_layout() \n",
    "    plt.show()\n",
    "\n",
    "plot_metric(f1_score_valid, f1_score_train)"
   ]
  }
 ],
 "metadata": {
  "kernelspec": {
   "display_name": "Python 3 (ipykernel)",
   "language": "python",
   "name": "python3"
  },
  "language_info": {
   "codemirror_mode": {
    "name": "ipython",
    "version": 3
   },
   "file_extension": ".py",
   "mimetype": "text/x-python",
   "name": "python",
   "nbconvert_exporter": "python",
   "pygments_lexer": "ipython3",
   "version": "3.11.10"
  }
 },
 "nbformat": 4,
 "nbformat_minor": 5
}
